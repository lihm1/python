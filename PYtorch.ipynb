{
  "nbformat": 4,
  "nbformat_minor": 0,
  "metadata": {
    "colab": {
      "provenance": [],
      "authorship_tag": "ABX9TyPkzWVe23ztW5t2qx+Uo7cE",
      "include_colab_link": true
    },
    "kernelspec": {
      "name": "python3",
      "display_name": "Python 3"
    },
    "language_info": {
      "name": "python"
    }
  },
  "cells": [
    {
      "cell_type": "markdown",
      "metadata": {
        "id": "view-in-github",
        "colab_type": "text"
      },
      "source": [
        "<a href=\"https://colab.research.google.com/github/lihm1/python/blob/master/PYtorch.ipynb\" target=\"_parent\"><img src=\"https://colab.research.google.com/assets/colab-badge.svg\" alt=\"Open In Colab\"/></a>"
      ]
    },
    {
      "cell_type": "markdown",
      "source": [
        "数据结构：\n",
        "N维数组是机器学习和神经网络的主要数据结构\n",
        "0维 1维..."
      ],
      "metadata": {
        "id": "_5wfCrsA5jXc"
      }
    },
    {
      "cell_type": "code",
      "execution_count": 2,
      "metadata": {
        "id": "G9ZqObnylGth"
      },
      "outputs": [],
      "source": [
        "import torch"
      ]
    },
    {
      "cell_type": "markdown",
      "source": [
        "张量表示一个数值组成的数组，这个数组可能多个维度"
      ],
      "metadata": {
        "id": "2V0aihwN7ujH"
      }
    },
    {
      "cell_type": "code",
      "source": [],
      "metadata": {
        "id": "2iKmNeQUlcXQ"
      },
      "execution_count": null,
      "outputs": []
    }
  ]
}